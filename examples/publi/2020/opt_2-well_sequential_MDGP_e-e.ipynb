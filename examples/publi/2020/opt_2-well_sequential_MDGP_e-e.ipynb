{
 "cells": [
  {
   "cell_type": "markdown",
   "metadata": {},
   "source": [
    "# Optimization of 2-well QCL by sequential IV - Gain\n",
    "\n",
    "This scirpt was used for optimizing 2-well THz QCLs with the following parameters:\n",
    "\n",
    "Bias range from 50-70 meV\n",
    "\n",
    "Frequency range from 10-18 meV\n",
    "\n",
    "Including e-e scattering\n",
    "\n",
    "Interpolation of IV and gain\n",
    "\n",
    "Gain evaluated at maximum of IV curve\n",
    "\n",
    "Varying x synchronously for all barriers\n",
    "\n",
    "Using multi-dimensional Gaussian Process optimizer\n",
    "\n",
    "Varying x around 28.5%\n",
    "\n",
    "Varying layer widths by 20% from structure #366 from previous optimization of EV2624 (Bosco et al., APL 2019: https://aip.scitation.org/doi/10.1063/1.5110305)"
   ]
  },
  {
   "cell_type": "code",
   "execution_count": null,
   "metadata": {},
   "outputs": [],
   "source": [
    "from aftershoq.interface import Inegf\n",
    "from aftershoq.structure import Sgenerator\n",
    "from aftershoq.qcls import Franckie2well366_2019\n",
    "from aftershoq.numerics.runplatf import Euler\n",
    "from aftershoq.numerics import MDGaussopt\n",
    "from aftershoq.structure.sgenerator import comp_modes\n",
    "import aftershoq.utils.systemutil as su\n",
    "import numpy as np\n",
    "from scipy.interpolate import interp1d\n",
    "from matplotlib import pyplot as pl\n",
    "import os\n",
    "import aftershoq.utils.debug as dbg"
   ]
  },
  {
   "cell_type": "code",
   "execution_count": null,
   "metadata": {},
   "outputs": [],
   "source": [
    "dbg.verbosity = dbg.verb_modes[\"silent\"]\n",
    "\n",
    "#model = Inegf(pltfm=Euler(24,\"4:00\", paral_in=Euler.paral_modes[\"OMP\"]))\n",
    "model = Inegf(pltfm=Euler(48,\"4:00\"))\n",
    "\n",
    "s = Franckie2well366_2019(T=300)\n",
    "\n",
    "path=\"/cluster/home/framarti/work/2well_opt/seq-MGgauss_try1-366/\"\n",
    "su.mkdir(path)\n",
    "\n",
    "model.numpar[\"Nper\"],model.numpar[\"Nstates\"] = 2,7\n",
    "model.numpar[\"NE\"],model.numpar[\"Nk\"] = 800, 600\n",
    "model.numpar[\"Tlattice\"] = 300\n",
    "model.numpar[\"efield0\"], model.numpar[\"defield\"], model.numpar[\"Nefield\"] = 0.050, 0.005, 5\n",
    "model.numpar[\"Nhist\"], model.numpar[\"maxits\"] = 40,40\n",
    "model.numpar[\"use-e-e\"] = True\n",
    "model.numpar[\"gen\"] = 5e-4\n",
    "\n",
    "npg = model.numpar.copy()\n",
    "\n",
    "npg[\"Nefield\"] = 1\n",
    "npg[\"Nh\"] = 1\n",
    "npg[\"efac0\"] = 1e-5\n",
    "npg[\"omega0\"], npg[\"domega\"], npg[\"Nomega\"] = 0.010, 0.002, 6\n",
    "npg[\"boolEins\"] = True\n",
    "\n",
    "print(model.numpar)\n",
    "\n",
    "# vary layers 20%\n",
    "dw = [l.width*0.20 for l in s.layers]\n",
    "dw[4] = 0\n",
    "\n",
    "print(dw)\n",
    "dx = []\n",
    "for l in s.layers:\n",
    "    x = l.material.x\n",
    "    if x is None:\n",
    "        x = 0\n",
    "        dx.append(0)\n",
    "    else:\n",
    "        dx.append(0.015)\n",
    "        l.material.updateAlloy(x=0.285)"
   ]
  },
  {
   "cell_type": "code",
   "execution_count": null,
   "metadata": {},
   "outputs": [],
   "source": [
    "sg = Sgenerator(origstruct=s, dx=dx, dw=dw, comp_mode=comp_modes[\"LINKED ALL\"])\n",
    "try:\n",
    "    old_s = model.loadAllStructures(path, s)\n",
    "    sg.structures = old_s\n",
    "except FileNotFoundError:\n",
    "    coords = sg.genRanStructs(N=20)"
   ]
  },
  {
   "cell_type": "code",
   "execution_count": null,
   "metadata": {
    "scrolled": true
   },
   "outputs": [],
   "source": [
    "t = model.runStructSeq(structures=sg.structures, path=path,seq=[model.numpar, npg], runwannier=True)\n",
    "for tt in t: tt.join()\n",
    "model.gatherResults(structures=sg.structures, pathwd=path, runhdiag=False, runbandplot=False)"
   ]
  },
  {
   "cell_type": "code",
   "execution_count": null,
   "metadata": {
    "scrolled": false
   },
   "outputs": [],
   "source": [
    "pathwd = path\n",
    "\n",
    "limits = sg.getLimits()\n",
    "\n",
    "opt = MDGaussopt(tolerance = 0.0, procmax = 10, maxiter = 150, limits = limits)\n",
    "\n",
    "x0, y0 = opt.addEvaldPoints(model, sg, pathwd, sg.structures)\n",
    "\n",
    "conv = opt.minimize(model, sg, pathwd, seq=[model.numpar, npg])"
   ]
  }
 ],
 "metadata": {
  "kernelspec": {
   "display_name": "Python 3",
   "language": "python",
   "name": "python3"
  },
  "language_info": {
   "codemirror_mode": {
    "name": "ipython",
    "version": 3
   },
   "file_extension": ".py",
   "mimetype": "text/x-python",
   "name": "python",
   "nbconvert_exporter": "python",
   "pygments_lexer": "ipython3",
   "version": "3.6.1"
  }
 },
 "nbformat": 4,
 "nbformat_minor": 2
}
