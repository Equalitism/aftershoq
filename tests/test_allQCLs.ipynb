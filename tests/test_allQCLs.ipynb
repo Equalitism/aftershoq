{
 "cells": [
  {
   "cell_type": "markdown",
   "metadata": {},
   "source": [
    "# Test all Structures and Materials\n",
    "\n",
    "This test the creation of all QCLs defined in\n",
    "```\n",
    "aftershoq.qcls\n",
    "```\n"
   ]
  },
  {
   "cell_type": "code",
   "execution_count": 1,
   "metadata": {},
   "outputs": [],
   "source": [
    "from aftershoq.qcls import *\n",
    "from aftershoq.structure import Structure"
   ]
  },
  {
   "cell_type": "code",
   "execution_count": 5,
   "metadata": {},
   "outputs": [
    {
     "name": "stdout",
     "output_type": "stream",
     "text": [
      "<class 'aftershoq.qcls.qcls.EV2416'>\n",
      "<class 'aftershoq.qcls.qcls.EV1157'>\n",
      "<class 'aftershoq.qcls.qcls.Fathololoumi2012'>\n",
      "<class 'aftershoq.qcls.qcls.DupontJAP2012'>\n",
      "<class 'aftershoq.qcls.qcls.WaltherAPL2006'>\n",
      "<class 'aftershoq.qcls.qcls.ScalariAPL2005'>\n",
      "<class 'aftershoq.qcls.qcls.ScalariOE2010'>\n",
      "<class 'aftershoq.qcls.qcls.N471'>\n",
      "<class 'aftershoq.qcls.qcls.EV1429'>\n",
      "<class 'aftershoq.qcls.qcls.EV2138a'>\n",
      "<class 'aftershoq.qcls.qcls.EV1907'>\n",
      "<class 'aftershoq.qcls.qcls.EV2016'>\n",
      "<class 'aftershoq.qcls.qcls.EV2017'>\n",
      "<class 'aftershoq.qcls.qcls.EV2103'>\n",
      "<class 'aftershoq.qcls.qcls.EV2104'>\n",
      "<class 'aftershoq.qcls.qcls.Dupont_DFG_ASQW'>\n",
      "<class 'aftershoq.qcls.qcls.Tymchenko_DFG_DQW'>\n",
      "<class 'aftershoq.qcls.qcls.N1022'>\n"
     ]
    }
   ],
   "source": [
    "subs = Structure.__subclasses__()\n",
    "for s in subs:\n",
    "    print(s)\n",
    "    ss = s(T = 100)\n",
    "    ss.calcStrain()"
   ]
  },
  {
   "cell_type": "code",
   "execution_count": 3,
   "metadata": {},
   "outputs": [],
   "source": [
    "from aftershoq.materials import *\n",
    "from aftershoq.structure import Material"
   ]
  },
  {
   "cell_type": "code",
   "execution_count": 4,
   "metadata": {},
   "outputs": [
    {
     "name": "stdout",
     "output_type": "stream",
     "text": [
      "<class 'aftershoq.materials.materials.GaAs'>\n",
      "<class 'aftershoq.materials.materials.AlAs'>\n",
      "<class 'aftershoq.materials.materials.InAs'>\n",
      "<class 'aftershoq.materials.materials.InP'>\n",
      "<class 'aftershoq.materials.materials.GaSb'>\n",
      "<class 'aftershoq.materials.materials.AlSb'>\n",
      "<class 'aftershoq.materials.materials.InSb'>\n",
      "<class 'aftershoq.materials.materials.ZnO'>\n",
      "<class 'aftershoq.materials.materials.MgO'>\n",
      "<class 'aftershoq.materials.materials.MgOzoterac'>\n",
      "<class 'aftershoq.materials.materials.AlGaAs'>\n",
      "<class 'aftershoq.materials.materials.InGaAs_on_GaAs'>\n",
      "<class 'aftershoq.materials.materials.InGaAs'>\n",
      "<class 'aftershoq.materials.materials.AlInAs'>\n",
      "<class 'aftershoq.materials.materials.GaInSb'>\n",
      "<class 'aftershoq.materials.materials.AlInSb'>\n",
      "<class 'aftershoq.materials.materials.AlGaSb'>\n",
      "<class 'aftershoq.materials.materials.GaAsSb'>\n",
      "<class 'aftershoq.materials.materials.InAsSb'>\n",
      "<class 'aftershoq.materials.materials.AlAsSb'>\n",
      "<class 'aftershoq.materials.materials.ZnMgO'>\n",
      "<class 'aftershoq.materials.materials.AlInGaAs'>\n"
     ]
    }
   ],
   "source": [
    "subs = Material.__subclasses__()\n",
    "for s in subs:\n",
    "    print(s)\n",
    "    ss = s()\n",
    "    ss.updateAlloy(x=1)\n",
    "    ss.calcStrain()"
   ]
  },
  {
   "cell_type": "code",
   "execution_count": null,
   "metadata": {},
   "outputs": [],
   "source": []
  }
 ],
 "metadata": {
  "kernelspec": {
   "display_name": "Python 3",
   "language": "python",
   "name": "python3"
  },
  "language_info": {
   "codemirror_mode": {
    "name": "ipython",
    "version": 3
   },
   "file_extension": ".py",
   "mimetype": "text/x-python",
   "name": "python",
   "nbconvert_exporter": "python",
   "pygments_lexer": "ipython3",
   "version": "3.7.3"
  }
 },
 "nbformat": 4,
 "nbformat_minor": 2
}
